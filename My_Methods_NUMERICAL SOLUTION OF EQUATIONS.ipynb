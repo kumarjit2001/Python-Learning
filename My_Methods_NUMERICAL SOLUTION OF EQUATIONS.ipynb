{
 "cells": [
  {
   "cell_type": "markdown",
   "id": "bc32b602",
   "metadata": {},
   "source": [
    "# Tabular Method"
   ]
  },
  {
   "cell_type": "code",
   "execution_count": 1,
   "id": "3ec6ab5d",
   "metadata": {},
   "outputs": [],
   "source": [
    "import numpy as np\n",
    "import matplotlib.pyplot as plt\n",
    "import math as m\n",
    "from intersect import intersection"
   ]
  },
  {
   "cell_type": "code",
   "execution_count": 2,
   "id": "838a88de",
   "metadata": {},
   "outputs": [
    {
     "name": "stdout",
     "output_type": "stream",
     "text": [
      "x = 0.0 sol = -1.0\n",
      "x = 0.1 sol = -0.8901665833531718\n",
      "x = 0.2 sol = -0.7613306692049387\n",
      "x = 0.30000000000000004 sol = -0.6144797933386603\n",
      "x = 0.4 sol = -0.4505816576913495\n",
      "x = 0.5 sol = -0.270574461395797\n",
      "x = 0.6000000000000001 sol = -0.07535752660496442\n",
      "x = 0.7000000000000001 sol = 0.13421768723769123\n",
      "x = 0.8 sol = 0.3573560908995228\n",
      "x = 0.9 sol = 0.5933269096274834\n",
      "The Desired Interval: 0.6000000000000001 0.7000000000000001\n"
     ]
    },
    {
     "data": {
      "image/png": "[encoded data removed]",
      "text/plain": [
       "<Figure size 432x288 with 1 Axes>"
      ]
     },
     "metadata": {
      "needs_background": "light"
     },
     "output_type": "display_data"
    }
   ],
   "source": [
    "def fun(x):\n",
    "    return m.sin(x) + x**2 - 1\n",
    "\n",
    "for i in np.arange(0,1,0.1):\n",
    "    print(\"x =\",i,\"sol =\",fun(i))\n",
    "    \n",
    "for i in np.arange(0,1,0.1):\n",
    "    if fun(i)<0 and fun(i+0.1)>0:\n",
    "            print(\"The Desired Interval:\",i,i+0.1)\n",
    "            \n",
    "#x = np.arange(0,1,0.1)\n",
    "#x = np.linspace(-np.pi,np.pi,100)\n",
    "x = np.linspace(0,np.pi,100)\n",
    "#f2 = np.vectorize(fun)\n",
    "#y = f2(x)\n",
    "y = np.sin(x) + x**2 - 1\n",
    "plt.plot(x,y)\n",
    "#plt.xticks(x)\n",
    "\n",
    "y1 = 0\n",
    "x1 = 0\n",
    "c = plt.axhline(y=0)\n",
    "\n",
    "#x2,y2 = intersection(x,y,x1,y1)\n",
    "#ply.plot(x1,y1,\"*k\")\n",
    "\n",
    "plt.grid()\n",
    "plt.show()"
   ]
  },
  {
   "cell_type": "code",
   "execution_count": 3,
   "id": "d0358a17",
   "metadata": {},
   "outputs": [
    {
     "name": "stdout",
     "output_type": "stream",
     "text": [
      "x = 0.0 sol = -3.0\n",
      "x = 0.1 sol = -2.6410745882058326\n",
      "x = 0.2 sol = -2.2151068075388864\n",
      "x = 0.30000000000000004 sol = -1.7047376850311204\n",
      "x = 0.4 sol = -1.08811356849042\n",
      "x = 0.5 sol = -0.3377223398316205\n",
      "x = 0.6000000000000001 sol = 0.5810717055349732\n",
      "x = 0.7000000000000001 sol = 1.711872336272724\n",
      "x = 0.8 sol = 3.109573444801933\n",
      "x = 0.9 sol = 4.843282347242816\n",
      "The Desired Interval: 0.5 0.6\n"
     ]
    },
    {
     "data": {
      "image/png": "[encoded data removed]",
      "text/plain": [
       "<Figure size 432x288 with 1 Axes>"
      ]
     },
     "metadata": {
      "needs_background": "light"
     },
     "output_type": "display_data"
    }
   ],
   "source": [
    "def f(x):\n",
    "    return 10**x + x - 4\n",
    "\n",
    "for i in np.arange(0,1,0.1):\n",
    "    print(\"x =\",i,\"sol =\",f(i))\n",
    "    \n",
    "for i in np.arange(0,1,0.1):\n",
    "    if f(i)<0 and f(i+0.1)>0:\n",
    "            print(\"The Desired Interval:\",i,i+0.1)\n",
    "            \n",
    "x = np.arange(0,1,0.1)\n",
    "y = f(x)\n",
    "plt.plot(x,y)\n",
    "plt.xticks(x)\n",
    "\n",
    "y1 = 0\n",
    "x1 = 0\n",
    "c = plt.axhline(y=0)\n",
    "\n",
    "#x2,y2 = intersection(x,y,x1,y1)\n",
    "#ply.plot(x1,y1,\"*k\")\n",
    "\n",
    "plt.grid()\n",
    "plt.show()"
   ]
  },
  {
   "cell_type": "markdown",
   "id": "262e9275",
   "metadata": {},
   "source": [
    "# Bisection Method"
   ]
  },
  {
   "cell_type": "markdown",
   "id": "f4516945",
   "metadata": {},
   "source": [
    "Before doing the bisection method, I will do the tabular method to find the interval."
   ]
  },
  {
   "cell_type": "code",
   "execution_count": 9,
   "id": "1410fce6",
   "metadata": {},
   "outputs": [
    {
     "name": "stdout",
     "output_type": "stream",
     "text": [
      "0.600000 -0.075358 0.700000 0.134218 0.650000 0.027686\n",
      "0.600000 -0.075358 0.650000 0.027686 0.625000 -0.024278\n",
      "0.625000 -0.024278 0.650000 0.027686 0.637500 0.001595\n",
      "0.625000 -0.024278 0.637500 0.001595 0.631250 -0.011369\n",
      "0.631250 -0.011369 0.637500 0.001595 0.634375 -0.004894\n",
      "0.634375 -0.004894 0.637500 0.001595 0.635937 -0.001651\n",
      "0.635937 -0.001651 0.637500 0.001595 0.636719 -0.000029\n",
      "The root is  0.6367\n",
      "[0.6499999999999999, 0.625, 0.6375, 0.63125, 0.6343749999999999, 0.6359374999999999, 0.63671875]\n"
     ]
    }
   ],
   "source": [
    "def f(x):\n",
    "    return m.sin(x) + x**2 - 1\n",
    "   \n",
    "def bisection(a, b):\n",
    "    mid = a\n",
    "    x = []\n",
    "    y = []\n",
    "    while (b - a) >= 0.001:\n",
    "        mid = (a + b)/2.0\n",
    "        print(\"%f %f %f %f %f %f\" %(a, f(a), b, f(b), mid, f(mid)))\n",
    "        if(f(a)*f(mid) < 0):\n",
    "            b = mid\n",
    "        else:\n",
    "            a = mid  \n",
    "        x.append(mid)\n",
    "        y.append(f(mid))\n",
    "\n",
    "    return mid, x, y\n",
    "\n",
    "sol, x, y = bisection(0.6, 0.7) #the interval is came from tabular method\n",
    "print(\"The root is \", \"%.4f\"%sol)\n",
    "\n",
    "print(x)"
   ]
  },
  {
   "cell_type": "code",
   "execution_count": null,
   "id": "d0162168",
   "metadata": {},
   "outputs": [],
   "source": []
  },
  {
   "cell_type": "code",
   "execution_count": null,
   "id": "cfa2569b",
   "metadata": {},
   "outputs": [],
   "source": []
  },
  {
   "cell_type": "code",
   "execution_count": null,
   "id": "19eafd00",
   "metadata": {},
   "outputs": [],
   "source": []
  },
  {
   "cell_type": "code",
   "execution_count": null,
   "id": "32dea347",
   "metadata": {},
   "outputs": [],
   "source": []
  }
 ],
 "metadata": {
  "kernelspec": {
   "display_name": "Python 3 (ipykernel)",
   "language": "python",
   "name": "python3"
  },
  "language_info": {
   "codemirror_mode": {
    "name": "ipython",
    "version": 3
   },
   "file_extension": ".py",
   "mimetype": "text/x-python",
   "name": "python",
   "nbconvert_exporter": "python",
   "pygments_lexer": "ipython3",
   "version": "3.9.7"
  }
 },
 "nbformat": 4,
 "nbformat_minor": 5
}
