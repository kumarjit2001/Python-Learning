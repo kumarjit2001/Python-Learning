{
 "cells": [
  {
   "cell_type": "markdown",
   "id": "2ea8c84a",
   "metadata": {},
   "source": [
    "# Patterns using String"
   ]
  },
  {
   "cell_type": "markdown",
   "id": "1866adee",
   "metadata": {},
   "source": [
    "# Step to Solve a Problem"
   ]
  },
  {
   "cell_type": "markdown",
   "id": "3304fad8",
   "metadata": {},
   "source": [
    "Problem 1"
   ]
  },
  {
   "cell_type": "code",
   "execution_count": 11,
   "id": "66e0d3f0",
   "metadata": {},
   "outputs": [
    {
     "name": "stdout",
     "output_type": "stream",
     "text": [
      "abcdefghijkl\n",
      "abcdefghijkl\n",
      "abcdefghijkl\n",
      "abcdefghijkl\n",
      "abcdefghijkl\n",
      "abcdefghijkl\n",
      "abcdefghijkl\n",
      "abcdefghijkl\n",
      "abcdefghijkl\n",
      "abcdefghijkl\n",
      "abcdefghijkl\n",
      "abcdefghijkl\n"
     ]
    }
   ],
   "source": [
    "#step 1\n",
    "n ='abcdefghijkl'\n",
    "for i in n:\n",
    "    print(n)"
   ]
  },
  {
   "cell_type": "code",
   "execution_count": 16,
   "id": "df0c958d",
   "metadata": {},
   "outputs": [
    {
     "name": "stdout",
     "output_type": "stream",
     "text": [
      "bcdefghijkl\n"
     ]
    }
   ],
   "source": [
    "#step 2\n",
    "n ='abcdefghijkl'\n",
    "print(n[1:len(n)])"
   ]
  },
  {
   "cell_type": "code",
   "execution_count": 19,
   "id": "02044e5f",
   "metadata": {},
   "outputs": [
    {
     "name": "stdout",
     "output_type": "stream",
     "text": [
      "abcdefghijkl\n",
      "bcdefghijkl\n",
      "cdefghijkl\n",
      "defghijkl\n",
      "efghijkl\n",
      "fghijkl\n",
      "ghijkl\n",
      "hijkl\n",
      "ijkl\n",
      "jkl\n",
      "kl\n",
      "l\n"
     ]
    }
   ],
   "source": [
    "#step 3\n",
    "n ='abcdefghijkl'\n",
    "for i in range(len(n)):\n",
    "    print(n[i:len(n)])"
   ]
  },
  {
   "cell_type": "markdown",
   "id": "2821600e",
   "metadata": {},
   "source": [
    "Problem 2"
   ]
  },
  {
   "cell_type": "code",
   "execution_count": 21,
   "id": "1f0cfc26",
   "metadata": {},
   "outputs": [
    {
     "name": "stdout",
     "output_type": "stream",
     "text": [
      "yy\n"
     ]
    }
   ],
   "source": [
    "#Q2\n",
    "n ='python'\n",
    "print(n[1]*2)"
   ]
  },
  {
   "cell_type": "code",
   "execution_count": 22,
   "id": "e1d78b52",
   "metadata": {},
   "outputs": [
    {
     "name": "stdout",
     "output_type": "stream",
     "text": [
      "python\n",
      "python\n",
      "python\n",
      "python\n",
      "python\n",
      "python\n"
     ]
    }
   ],
   "source": [
    "n = 'python'\n",
    "for i in range(len(n)):\n",
    "    print(n)"
   ]
  },
  {
   "cell_type": "code",
   "execution_count": 88,
   "id": "9a55d065",
   "metadata": {},
   "outputs": [
    {
     "name": "stdout",
     "output_type": "stream",
     "text": [
      "\n",
      "p\n",
      "yy\n",
      "ttt\n",
      "hhhh\n",
      "ooooo\n",
      "nnnnnn\n"
     ]
    }
   ],
   "source": [
    "n = 'python'\n",
    "for i in range(len(n)+1):\n",
    "    print(n[i-1]*i)"
   ]
  },
  {
   "cell_type": "code",
   "execution_count": 86,
   "id": "88e6c25d",
   "metadata": {},
   "outputs": [
    {
     "name": "stdout",
     "output_type": "stream",
     "text": [
      "p \n",
      "y y \n",
      "t t t \n",
      "h h h h \n",
      "o o o o o \n",
      "n n n n n n \n"
     ]
    }
   ],
   "source": [
    "n = 'python'\n",
    "for i in range(len(n)):\n",
    "    for j in range(i+1):\n",
    "        print(n[i], end=\" \")\n",
    "    print()"
   ]
  },
  {
   "cell_type": "code",
   "execution_count": 30,
   "id": "479f11cf",
   "metadata": {},
   "outputs": [
    {
     "name": "stdout",
     "output_type": "stream",
     "text": [
      "\n",
      "p\n",
      "py\n",
      "pyt\n",
      "pyth\n",
      "pytho\n",
      "python\n"
     ]
    }
   ],
   "source": [
    "n = 'python'\n",
    "for i in range(len(n)+1):\n",
    "    print(n[0:i])"
   ]
  },
  {
   "cell_type": "code",
   "execution_count": 1,
   "id": "7bfba0c6",
   "metadata": {},
   "outputs": [
    {
     "name": "stdout",
     "output_type": "stream",
     "text": [
      "p \n",
      "p y \n",
      "p y t \n",
      "p y t h \n",
      "p y t h o \n",
      "p y t h o n \n"
     ]
    }
   ],
   "source": [
    "n = 'python'\n",
    "for i in range(len(n)):\n",
    "    for j in range(i+1):\n",
    "        print(n[j], end=\" \")\n",
    "    print()"
   ]
  },
  {
   "cell_type": "code",
   "execution_count": 38,
   "id": "e4c85afd",
   "metadata": {},
   "outputs": [
    {
     "name": "stdout",
     "output_type": "stream",
     "text": [
      "      \n",
      "     p\n",
      "    py\n",
      "   pyt\n",
      "  pyth\n",
      " pytho\n",
      "python\n"
     ]
    }
   ],
   "source": [
    "n = 'python'\n",
    "for i in range(len(n)+1):\n",
    "    for j in range(len(n)-i):\n",
    "        print(\" \",end=\"\")\n",
    "    print(n[0:i])"
   ]
  },
  {
   "cell_type": "code",
   "execution_count": 8,
   "id": "c9159618",
   "metadata": {},
   "outputs": [
    {
     "name": "stdout",
     "output_type": "stream",
     "text": [
      "          p \n",
      "        p y \n",
      "      p y t \n",
      "    p y t h \n",
      "  p y t h o \n",
      "p y t h o n \n"
     ]
    }
   ],
   "source": [
    "n = 'python'\n",
    "for i in range(len(n)):\n",
    "    for j in range(len(n)-i-1):#put extra -1 to get more acuurate pattern\n",
    "        print(\" \",end=\" \")\n",
    "    for j in range(i+1):\n",
    "        print(n[j], end=\" \")\n",
    "    print()"
   ]
  },
  {
   "cell_type": "code",
   "execution_count": 43,
   "id": "c4b4fc62",
   "metadata": {},
   "outputs": [
    {
     "name": "stdout",
     "output_type": "stream",
     "text": [
      "      \n",
      "     p\n",
      "    yy\n",
      "   ttt\n",
      "  hhhh\n",
      " ooooo\n",
      "nnnnnn\n"
     ]
    }
   ],
   "source": [
    "n = 'python'\n",
    "for i in range(len(n)+1):\n",
    "    for j in range(len(n)-i):\n",
    "        print(\" \",end=\"\")\n",
    "    print(n[i-1]*i)"
   ]
  },
  {
   "cell_type": "code",
   "execution_count": 9,
   "id": "0d5014a5",
   "metadata": {},
   "outputs": [
    {
     "name": "stdout",
     "output_type": "stream",
     "text": [
      "          p \n",
      "        y y \n",
      "      t t t \n",
      "    h h h h \n",
      "  o o o o o \n",
      "n n n n n n \n"
     ]
    }
   ],
   "source": [
    "n = 'python'\n",
    "for i in range(len(n)):\n",
    "    for j in range(len(n)-i-1):#put extra -1 to get more acuurate pattern\n",
    "        print(\" \",end=\" \")\n",
    "    for j in range(i+1):\n",
    "        print(n[i], end=\" \")\n",
    "    print()"
   ]
  },
  {
   "cell_type": "code",
   "execution_count": 13,
   "id": "cb0e5bea",
   "metadata": {},
   "outputs": [
    {
     "name": "stdout",
     "output_type": "stream",
     "text": [
      "     p \n",
      "    y y \n",
      "   t t t \n",
      "  h h h h \n",
      " o o o o o \n",
      "n n n n n n \n",
      "      p \n",
      "     y y \n",
      "    t t t \n",
      "   h h h h \n",
      "  o o o o o \n",
      " n n n n n n \n"
     ]
    }
   ],
   "source": [
    "n = 'python'\n",
    "for i in range(len(n)):\n",
    "    for j in range(len(n)-i-1):#put extra -1 to get more acuurate pattern\n",
    "        print(\" \",end=\"\")\n",
    "    for j in range(i+1):\n",
    "        print(n[i], end=\" \")\n",
    "    print()\n",
    "\n",
    "#after removing -1\n",
    "n = 'python'\n",
    "for i in range(len(n)):\n",
    "    for j in range(len(n)-i):#put extra -1 to get more acuurate pattern\n",
    "        print(\" \",end=\"\")\n",
    "    for j in range(i+1):\n",
    "        print(n[i], end=\" \")\n",
    "    print()"
   ]
  },
  {
   "cell_type": "code",
   "execution_count": 14,
   "id": "ae5c6c84",
   "metadata": {},
   "outputs": [
    {
     "name": "stdout",
     "output_type": "stream",
     "text": [
      "     p \n",
      "    p y \n",
      "   p y t \n",
      "  p y t h \n",
      " p y t h o \n",
      "p y t h o n \n"
     ]
    }
   ],
   "source": [
    "n = 'python'\n",
    "for i in range(len(n)):\n",
    "    for j in range(len(n)-i-1):#put extra -1 to get more acuurate pattern\n",
    "        print(\" \",end=\"\")\n",
    "    for j in range(i+1):\n",
    "        print(n[j], end=\" \")\n",
    "    print()"
   ]
  },
  {
   "cell_type": "code",
   "execution_count": 18,
   "id": "96c310f4",
   "metadata": {},
   "outputs": [
    {
     "name": "stdout",
     "output_type": "stream",
     "text": [
      "p y t h o n \n",
      "p y t h o \n",
      "p y t h \n",
      "p y t \n",
      "p y \n",
      "p \n"
     ]
    }
   ],
   "source": [
    "n = 'python'\n",
    "for i in range(len(n)):\n",
    "    #for j in range(len(n)-i-1):#put extra -1 to get more acuurate pattern\n",
    "        #print(\" \",end=\"\")\n",
    "    for j in range(len(n)-i):\n",
    "        print(n[j], end=\" \")\n",
    "    print()"
   ]
  },
  {
   "cell_type": "code",
   "execution_count": 19,
   "id": "34e019f8",
   "metadata": {},
   "outputs": [
    {
     "name": "stdout",
     "output_type": "stream",
     "text": [
      "p p p p p p \n",
      "y y y y y \n",
      "t t t t \n",
      "h h h \n",
      "o o \n",
      "n \n"
     ]
    }
   ],
   "source": [
    "n = 'python'\n",
    "for i in range(len(n)):\n",
    "    #for j in range(len(n)-i-1):#put extra -1 to get more acuurate pattern\n",
    "        #print(\" \",end=\"\")\n",
    "    for j in range(len(n)-i):\n",
    "        print(n[i], end=\" \")\n",
    "    print()"
   ]
  },
  {
   "cell_type": "code",
   "execution_count": 32,
   "id": "e85d195e",
   "metadata": {},
   "outputs": [
    {
     "name": "stdout",
     "output_type": "stream",
     "text": [
      "p y t h o n \n",
      "  p y t h o \n",
      "    p y t h \n",
      "      p y t \n",
      "        p y \n",
      "          p \n"
     ]
    }
   ],
   "source": [
    "n = 'python'\n",
    "for i in range(len(n)):\n",
    "    for j in range(i):#put extra -1 to get more acuurate pattern\n",
    "        print(\" \",end=\" \")\n",
    "    for j in range(len(n)-i):\n",
    "        print(n[j], end=\" \")\n",
    "    print()"
   ]
  },
  {
   "cell_type": "code",
   "execution_count": 33,
   "id": "12181f80",
   "metadata": {},
   "outputs": [
    {
     "name": "stdout",
     "output_type": "stream",
     "text": [
      "p p p p p p \n",
      "  y y y y y \n",
      "    t t t t \n",
      "      h h h \n",
      "        o o \n",
      "          n \n"
     ]
    }
   ],
   "source": [
    "n = 'python'\n",
    "for i in range(len(n)):\n",
    "    for j in range(i):#put extra -1 to get more acuurate pattern\n",
    "        print(\" \",end=\" \")\n",
    "    for j in range(len(n)-i):\n",
    "        print(n[i], end=\" \")\n",
    "    print()"
   ]
  },
  {
   "cell_type": "code",
   "execution_count": 34,
   "id": "6ce6d59a",
   "metadata": {},
   "outputs": [
    {
     "name": "stdout",
     "output_type": "stream",
     "text": [
      "p y t h o n \n",
      " p y t h o \n",
      "  p y t h \n",
      "   p y t \n",
      "    p y \n",
      "     p \n"
     ]
    }
   ],
   "source": [
    "n ='python'\n",
    "for i in range(len(n)):\n",
    "    for j in range(i):\n",
    "        print(\" \",end=\"\")\n",
    "    for j in range(len(n)-i):\n",
    "        print(n[j],end=\" \")\n",
    "    print()"
   ]
  },
  {
   "cell_type": "code",
   "execution_count": 35,
   "id": "c5f013a9",
   "metadata": {},
   "outputs": [
    {
     "name": "stdout",
     "output_type": "stream",
     "text": [
      "p p p p p p \n",
      " y y y y y \n",
      "  t t t t \n",
      "   h h h \n",
      "    o o \n",
      "     n \n"
     ]
    }
   ],
   "source": [
    "n ='python'\n",
    "for i in range(len(n)):\n",
    "    for j in range(i):\n",
    "        print(\" \",end=\"\")\n",
    "    for j in range(len(n)-i):\n",
    "        print(n[i],end=\" \")\n",
    "    print()"
   ]
  },
  {
   "cell_type": "code",
   "execution_count": 44,
   "id": "377a8885",
   "metadata": {},
   "outputs": [
    {
     "name": "stdout",
     "output_type": "stream",
     "text": [
      "n n n n n n \n",
      "  o o o o o \n",
      "    h h h h \n",
      "      t t t \n",
      "        y y \n",
      "          p \n"
     ]
    }
   ],
   "source": [
    "n='python'\n",
    "for i in range(len(n)):\n",
    "    for j in range(i):\n",
    "        print(\" \", end=\" \")\n",
    "    for j in range(len(n)-i):\n",
    "        print(n[len(n)-i-1], end=\" \")\n",
    "    print()"
   ]
  },
  {
   "cell_type": "code",
   "execution_count": 54,
   "id": "aef9034e",
   "metadata": {},
   "outputs": [
    {
     "name": "stdout",
     "output_type": "stream",
     "text": [
      "n n n n n n \n",
      "  o o o o o \n",
      "    h h h h \n",
      "      t t t \n",
      "        y y \n",
      "          p \n"
     ]
    }
   ],
   "source": [
    "n='python'\n",
    "for i in range(len(n)-1,-1,-1):\n",
    "    for j in range(len(n)-i-1):\n",
    "        print(\" \", end=\" \")\n",
    "    for j in range(i+1):\n",
    "        print(n[i], end=\" \")\n",
    "    print()"
   ]
  },
  {
   "cell_type": "code",
   "execution_count": 49,
   "id": "be65302e",
   "metadata": {},
   "outputs": [
    {
     "name": "stdout",
     "output_type": "stream",
     "text": [
      "n o h t y p \n",
      "  o h t y p \n",
      "    h t y p \n",
      "      t y p \n",
      "        y p \n",
      "          p \n"
     ]
    }
   ],
   "source": [
    "n='python'\n",
    "for i in range(len(n)):\n",
    "    for j in range(i):\n",
    "        print(\" \", end=\" \")\n",
    "    for j in range(len(n)-i):\n",
    "        print(n[len(n)-j-i-1], end=\" \")\n",
    "    print()"
   ]
  },
  {
   "cell_type": "code",
   "execution_count": 79,
   "id": "fc9a3932",
   "metadata": {},
   "outputs": [
    {
     "name": "stdout",
     "output_type": "stream",
     "text": [
      "n o h t y p \n",
      "  n o h t y \n",
      "    n o h t \n",
      "      n o h \n",
      "        n o \n",
      "          n \n"
     ]
    }
   ],
   "source": [
    "n='python'\n",
    "for i in range(len(n)):\n",
    "    for j in range(i):\n",
    "        print(\" \", end=\" \")\n",
    "    for j in range(len(n)-i):\n",
    "        print(n[len(n)-j-1], end=\" \")\n",
    "    print()"
   ]
  },
  {
   "cell_type": "code",
   "execution_count": 107,
   "id": "ebe9bbc7",
   "metadata": {},
   "outputs": [
    {
     "name": "stdout",
     "output_type": "stream",
     "text": [
      "          \n",
      "         A \n",
      "        A A \n",
      "       A A A \n",
      "      A A A A \n",
      "     A A A A A \n",
      "    A A A A A A \n",
      "   A A A A A A A \n",
      "  A A A A A A A A \n",
      " A A A A A A A A A \n",
      "A A A A A A A A A A \n"
     ]
    }
   ],
   "source": [
    "n = \"A\"\n",
    "l = 10 #int(input(\"Enter the number of rows: \"))\n",
    "for i in range(l+1):\n",
    "    for j in range(l-i):\n",
    "        print(\" \", end=\"\")\n",
    "    for j in range(i):\n",
    "        print(n, end=\" \")\n",
    "    print()"
   ]
  },
  {
   "cell_type": "code",
   "execution_count": 119,
   "id": "69b53c1b",
   "metadata": {},
   "outputs": [
    {
     "name": "stdout",
     "output_type": "stream",
     "text": [
      "                    A A \n",
      "                  A A A A \n",
      "                A A A A A A \n",
      "              A A A A A A A A \n",
      "            A A A A A A A A A A \n",
      "          A A A A A A A A A A A A \n",
      "        A A A A A A A A A A A A A A \n",
      "      A A A A A A A A A A A A A A A A \n",
      "    A A A A A A A A A A A A A A A A A A \n",
      "  A A A A A A A A A A A A A A A A A A A A \n"
     ]
    }
   ],
   "source": [
    "n = \"A\"\n",
    "l = 10 #int(input(\"Enter the number of rows: \"))\n",
    "for i in range(l):\n",
    "    for j in range((l-i)*2):\n",
    "        print(\" \", end=\"\")\n",
    "    for j in range(i):\n",
    "        print(n, end=\" \")\n",
    "    for j in range(i+1,-1,-1):\n",
    "        print(n, end=\" \")\n",
    "    print()"
   ]
  },
  {
   "cell_type": "code",
   "execution_count": 156,
   "id": "15c47bee",
   "metadata": {},
   "outputs": [
    {
     "name": "stdout",
     "output_type": "stream",
     "text": [
      "                    A \n",
      "                  A A A \n",
      "                A A A A A \n",
      "              A A A A A A A \n",
      "            A A A A A A A A A \n",
      "          A A A A A A A A A A A \n",
      "        A A A A A A A A A A A A A \n",
      "      A A A A A A A A A A A A A A A \n",
      "    A A A A A A A A A A A A A A A A A \n",
      "  A A A A A A A A A A A A A A A A A A A \n"
     ]
    }
   ],
   "source": [
    "n = \"A\"\n",
    "l = 10 #int(input(\"Enter the number of rows: \"))\n",
    "for i in range(l):\n",
    "    for j in range((l-i)*2):\n",
    "        print(\" \", end=\"\")\n",
    "    for j in range(i):\n",
    "        print(n, end=\" \")\n",
    "    for j in range(i,-1,-1):\n",
    "        print(n, end=\" \")\n",
    "    print()"
   ]
  },
  {
   "cell_type": "markdown",
   "id": "78df7297",
   "metadata": {},
   "source": [
    "# Star Shape Pattern"
   ]
  },
  {
   "cell_type": "code",
   "execution_count": 104,
   "id": "aa129822",
   "metadata": {},
   "outputs": [
    {
     "name": "stdout",
     "output_type": "stream",
     "text": [
      "\n",
      "*\n",
      "**\n",
      "***\n",
      "****\n",
      "*****\n"
     ]
    }
   ],
   "source": [
    "n= \"*\"\n",
    "l=5\n",
    "for i in range(l+1):\n",
    "    print(n*i)"
   ]
  },
  {
   "cell_type": "code",
   "execution_count": 167,
   "id": "320bbf49",
   "metadata": {},
   "outputs": [
    {
     "name": "stdout",
     "output_type": "stream",
     "text": [
      "\n",
      "* \n",
      "* * \n",
      "* * * \n",
      "* * * * \n",
      "* * * * * \n"
     ]
    }
   ],
   "source": [
    "n = \"*\"\n",
    "l = 5 #int(input(\"Enter the number of rows: \"))\n",
    "for i in range(l+1):\n",
    "    for j in range(i):\n",
    "        print(n, end=\" \")\n",
    "    print()"
   ]
  },
  {
   "cell_type": "code",
   "execution_count": 169,
   "id": "84cca652",
   "metadata": {},
   "outputs": [
    {
     "name": "stdout",
     "output_type": "stream",
     "text": [
      "\n",
      "*\n",
      "***\n",
      "******\n",
      "**********\n",
      "***************\n"
     ]
    }
   ],
   "source": [
    "n = \"*\"\n",
    "l = 5 #int(input(\"Enter the number of rows: \"))\n",
    "for i in range(l+1):\n",
    "    for j in range(i+1):\n",
    "        print(n*j, end=\"\")\n",
    "    print()"
   ]
  },
  {
   "cell_type": "code",
   "execution_count": 158,
   "id": "75b0576d",
   "metadata": {},
   "outputs": [
    {
     "name": "stdout",
     "output_type": "stream",
     "text": [
      "     * \n",
      "    * * \n",
      "   * * * \n",
      "  * * * * \n",
      " * * * * * \n",
      "* * * * * * \n"
     ]
    }
   ],
   "source": [
    "n = \"*\"\n",
    "l = 5\n",
    "for i in range(l+1):\n",
    "    for j in range(l-i):\n",
    "        print(\" \", end=\"\")\n",
    "    for j in range(i+1):\n",
    "        print(n, end=\" \")\n",
    "    print()"
   ]
  },
  {
   "cell_type": "code",
   "execution_count": 159,
   "id": "b5e6e19c",
   "metadata": {},
   "outputs": [
    {
     "name": "stdout",
     "output_type": "stream",
     "text": [
      "* * * * * \n",
      " * * * * \n",
      "  * * * \n",
      "   * * \n",
      "    * \n",
      "     \n"
     ]
    }
   ],
   "source": [
    "n = \"*\"\n",
    "l = 5\n",
    "for i in range(l+1):\n",
    "    for j in range(i):\n",
    "        print(\" \", end=\"\")\n",
    "    for j in range(l-i):\n",
    "        print(n, end=\" \")\n",
    "    print()"
   ]
  },
  {
   "cell_type": "code",
   "execution_count": 160,
   "id": "b39f1ddb",
   "metadata": {},
   "outputs": [
    {
     "name": "stdout",
     "output_type": "stream",
     "text": [
      "* * * * * \n",
      "  * * * * \n",
      "    * * * \n",
      "      * * \n",
      "        * \n"
     ]
    }
   ],
   "source": [
    "n = \"*\"\n",
    "l = 5\n",
    "for i in range(l):\n",
    "    for j in range(i):\n",
    "        print(\" \", end=\" \")\n",
    "    for j in range(l-i):\n",
    "        print(n, end=\" \")\n",
    "    print()"
   ]
  },
  {
   "cell_type": "code",
   "execution_count": 161,
   "id": "c17f28c9",
   "metadata": {},
   "outputs": [
    {
     "name": "stdout",
     "output_type": "stream",
     "text": [
      "          * \n",
      "        * * \n",
      "      * * * \n",
      "    * * * * \n",
      "  * * * * * \n",
      "* * * * * * \n"
     ]
    }
   ],
   "source": [
    "n = \"*\"\n",
    "l = 5\n",
    "for i in range(l+1):\n",
    "    for j in range(l-i):\n",
    "        print(\" \", end=\" \")\n",
    "    for j in range(i+1):\n",
    "        print(n, end=\" \")\n",
    "    print()"
   ]
  },
  {
   "cell_type": "code",
   "execution_count": 165,
   "id": "ca377ad7",
   "metadata": {},
   "outputs": [
    {
     "name": "stdout",
     "output_type": "stream",
     "text": [
      "* * * * * \n",
      "* * * * \n",
      "* * * \n",
      "* * \n",
      "* \n",
      "\n"
     ]
    }
   ],
   "source": [
    "n = \"*\"\n",
    "l = 5\n",
    "for i in range(l+1):\n",
    "    #for j in range(i):\n",
    "        #print(\" \", end=\" \")\n",
    "    for j in range(l-i):\n",
    "        print(n, end=\" \")\n",
    "    print()"
   ]
  },
  {
   "cell_type": "markdown",
   "id": "df3904d8",
   "metadata": {},
   "source": [
    "# Pattern Using Function"
   ]
  },
  {
   "cell_type": "code",
   "execution_count": 183,
   "id": "b816d259",
   "metadata": {},
   "outputs": [
    {
     "name": "stdout",
     "output_type": "stream",
     "text": [
      "    * \n",
      "   * * \n",
      "  * * * \n",
      " * * * * \n",
      "* * * * * \n",
      " * * * * \n",
      "  * * * \n",
      "   * * \n",
      "    * \n"
     ]
    }
   ],
   "source": [
    "def dia(row):\n",
    "    for i in range(row):\n",
    "        print(' '*(row-i-1)+\"* \"*(i+1))\n",
    "    for j in range(row-1,0,-1):\n",
    "        print(' '*(row-j)+\"* \"*(j))\n",
    "\n",
    "dia(5)"
   ]
  },
  {
   "cell_type": "code",
   "execution_count": 154,
   "id": "8e3da746",
   "metadata": {},
   "outputs": [
    {
     "name": "stdout",
     "output_type": "stream",
     "text": [
      "     * * * * * \n",
      "      * * * * \n",
      "       * * * \n",
      "        * * \n",
      "         * \n",
      "          \n",
      "           \n",
      "            \n",
      "             \n",
      "              \n"
     ]
    }
   ],
   "source": [
    "#trial\n",
    "n= \"*\"\n",
    "l =5\n",
    "for i in range((2*l)):\n",
    "    #for j in range(l-i):\n",
    "        #print(\" \",end=\"\")\n",
    "    #for j in range(i+1):\n",
    "        #print(n,end=\" \")\n",
    "    for k in range(l+i):\n",
    "        print(\" \", end=\"\")\n",
    "    for k in range(l-i):\n",
    "        print(n,end=\" \")\n",
    "    print()"
   ]
  },
  {
   "cell_type": "code",
   "execution_count": null,
   "id": "5638ff4a",
   "metadata": {},
   "outputs": [],
   "source": []
  },
  {
   "cell_type": "code",
   "execution_count": null,
   "id": "32a6a4ab",
   "metadata": {},
   "outputs": [],
   "source": []
  },
  {
   "cell_type": "code",
   "execution_count": null,
   "id": "bcf8da72",
   "metadata": {},
   "outputs": [],
   "source": []
  },
  {
   "cell_type": "code",
   "execution_count": null,
   "id": "d379281d",
   "metadata": {},
   "outputs": [],
   "source": []
  },
  {
   "cell_type": "code",
   "execution_count": null,
   "id": "4cd9e3d0",
   "metadata": {},
   "outputs": [],
   "source": []
  },
  {
   "cell_type": "code",
   "execution_count": null,
   "id": "ffbeb8c7",
   "metadata": {},
   "outputs": [],
   "source": []
  }
 ],
 "metadata": {
  "kernelspec": {
   "display_name": "Python 3 (ipykernel)",
   "language": "python",
   "name": "python3"
  },
  "language_info": {
   "codemirror_mode": {
    "name": "ipython",
    "version": 3
   },
   "file_extension": ".py",
   "mimetype": "text/x-python",
   "name": "python",
   "nbconvert_exporter": "python",
   "pygments_lexer": "ipython3",
   "version": "3.9.7"
  }
 },
 "nbformat": 4,
 "nbformat_minor": 5
}
