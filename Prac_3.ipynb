{
 "cells": [
  {
   "cell_type": "code",
   "execution_count": 1,
   "id": "753e2063",
   "metadata": {},
   "outputs": [
    {
     "name": "stdout",
     "output_type": "stream",
     "text": [
      "[1, 2, 3, 4, 5, 6, 7, 8]\n"
     ]
    }
   ],
   "source": [
    "#q1\n",
    "L = [1,3,5,7]\n",
    "for i in range(2,10,2):\n",
    "    L.append(i)\n",
    "L.sort()\n",
    "print(L)"
   ]
  },
  {
   "cell_type": "code",
   "execution_count": 2,
   "id": "08435765",
   "metadata": {},
   "outputs": [
    {
     "name": "stdout",
     "output_type": "stream",
     "text": [
      "[1, 2, 3, 4, 5, 6, 7]\n"
     ]
    }
   ],
   "source": [
    "#q2\n",
    "L =[1, 2, 3, 4, 5, 6, 7, 8]\n",
    "n = len(L)\n",
    "del L[n-1]\n",
    "print(L)"
   ]
  },
  {
   "cell_type": "code",
   "execution_count": 3,
   "id": "e056e424",
   "metadata": {},
   "outputs": [
    {
     "name": "stdout",
     "output_type": "stream",
     "text": [
      "[1, 2, 3, 4, 5, 6, 7]\n"
     ]
    }
   ],
   "source": [
    "#q2\n",
    "L =[1, 2, 3, 4, 5, 6, 7, 8]\n",
    "L.pop(7)\n",
    "print(L)"
   ]
  },
  {
   "cell_type": "markdown",
   "id": "69b95d6a",
   "metadata": {},
   "source": [
    "To Learn stack: - https://www.youtube.com/watch?v=YbEvNaOxZCQ"
   ]
  },
  {
   "cell_type": "code",
   "execution_count": 4,
   "id": "927ad2c0",
   "metadata": {},
   "outputs": [
    {
     "name": "stdout",
     "output_type": "stream",
     "text": [
      "Enter the max Push limit: 1\n",
      "What you want to store: num\n",
      "Enter your num1\n",
      "['1']\n"
     ]
    }
   ],
   "source": [
    "#q3\n",
    "l = int(input(\"Enter the max Push limit: \"))\n",
    "d = str(input(\"What you want to store: \"))\n",
    "def Push(L):\n",
    "    L =[]\n",
    "    for i in range(l):\n",
    "        n = input(\"Enter your \"+d)\n",
    "        L.append(n)\n",
    "    print(L)\n",
    "    \n",
    "Push(l)"
   ]
  },
  {
   "cell_type": "code",
   "execution_count": 5,
   "id": "a12acc98",
   "metadata": {},
   "outputs": [],
   "source": [
    "#q4\n"
   ]
  },
  {
   "cell_type": "code",
   "execution_count": 6,
   "id": "c6e891ae",
   "metadata": {},
   "outputs": [
    {
     "name": "stdout",
     "output_type": "stream",
     "text": [
      "Enter the stack limit: 1\n",
      "Enter the name: 2\n",
      "['2']\n"
     ]
    }
   ],
   "source": [
    "#q5\n",
    "n = int(input(\"Enter the stack limit: \"))\n",
    "Lst = []\n",
    "i = 0\n",
    "for i in range(n):\n",
    "    nm = str(input(\"Enter the name: \"))\n",
    "    Lst.append(nm)\n",
    "print(Lst)"
   ]
  },
  {
   "cell_type": "code",
   "execution_count": 7,
   "id": "5d90a569",
   "metadata": {},
   "outputs": [
    {
     "name": "stdout",
     "output_type": "stream",
     "text": [
      "[]\n"
     ]
    }
   ],
   "source": [
    "Lst.pop()\n",
    "Lst.reverse()\n",
    "print(Lst)"
   ]
  },
  {
   "cell_type": "code",
   "execution_count": 8,
   "id": "9cf949a8",
   "metadata": {},
   "outputs": [
    {
     "name": "stdout",
     "output_type": "stream",
     "text": [
      "Number of character you want to store: - 2\n",
      "Enter the character: - 2\n",
      "Enter the character: - 3\n",
      "['2', '3']\n",
      "['2', '3']\n"
     ]
    }
   ],
   "source": [
    "#q7\n",
    "l = []\n",
    "n = int(input(\"Number of character you want to store: - \"))\n",
    "for i in range(n):\n",
    "    l1 = input(\"Enter the character: - \")\n",
    "    l.append(l1)\n",
    "print(l)\n",
    "\n",
    "lis_2 = []\n",
    "for j in l:\n",
    "    if j not in lis_2:\n",
    "        lis_2.append(j)\n",
    "        \n",
    "print(lis_2)"
   ]
  },
  {
   "cell_type": "code",
   "execution_count": 9,
   "id": "ab57b5ab",
   "metadata": {},
   "outputs": [
    {
     "name": "stdout",
     "output_type": "stream",
     "text": [
      "Main list: [1, 2, 3, 4, 5, 6]\n",
      "Even number list: [2, 4, 6]\n",
      "Odd number list: [1, 3, 5]\n"
     ]
    }
   ],
   "source": [
    "#8\n",
    "L =  [1, 2, 3, 4, 5,6]\n",
    "L_even = []\n",
    "L_odd = []\n",
    "for i in L:\n",
    "    if i%2 == 0:\n",
    "        L_even.append(i)\n",
    "    else:\n",
    "        L_odd.append(i)\n",
    "        \n",
    "print(\"Main list: \", end=\"\")\n",
    "print(L) \n",
    "print(\"Even number list: \", end=\"\")  \n",
    "print(L_even)\n",
    "print(\"Odd number list: \", end=\"\") \n",
    "print(L_odd )"
   ]
  },
  {
   "cell_type": "code",
   "execution_count": 10,
   "id": "85d1bba7",
   "metadata": {},
   "outputs": [
    {
     "name": "stdout",
     "output_type": "stream",
     "text": [
      "Odd number list: [1, 3, 5]\n",
      "Sum of odd number: 9\n"
     ]
    }
   ],
   "source": [
    "#q9\n",
    "L1 = [1, 2, 3, 4, 5]\n",
    "L2 = [5, 4, 10, 12]\n",
    "L3 = []\n",
    "def oddsum(L1,L2,L3):\n",
    "    for i in L1:\n",
    "        if i%2 != 0:\n",
    "            L3.append(i)\n",
    "    for j in L2:\n",
    "        if j%2 != 0:\n",
    "            L3.append(j)\n",
    "        if i == j: # eliminate the same element\n",
    "            L3.remove(j)\n",
    "    \n",
    "    print(\"Odd number list: \", end=\"\")\n",
    "    print(L3)\n",
    "    print(\"Sum of odd number: \", end=\"\")\n",
    "    print(sum(L3))\n",
    "    \n",
    "oddsum(L1,L2,L3)"
   ]
  },
  {
   "cell_type": "code",
   "execution_count": 11,
   "id": "c82951ce",
   "metadata": {},
   "outputs": [],
   "source": [
    "#q10\n",
    "while n%2 != 0:\n",
    "    n = int(input(\"Enter the number\"))\n",
    "    print(n)"
   ]
  },
  {
   "cell_type": "markdown",
   "id": "55af81c0",
   "metadata": {},
   "source": [
    "#q11\n",
    "num = 12345678\n",
    "rev_num = 0\n",
    "while num != 0: #or (num>0)\n",
    "    digit = num%10\n",
    "    rev_num = rev_num*10 + digit\n",
    "    num//10\n",
    "    \n",
    "print(rev_num)"
   ]
  },
  {
   "cell_type": "markdown",
   "id": "9d0ea781",
   "metadata": {},
   "source": [
    "num = 1234\n",
    "reversed_num = 0\n",
    "\n",
    "while num != 0:\n",
    "    digit = num % 10\n",
    "    reversed_num = reversed_num * 10 + digit\n",
    "    num //= 10\n",
    "\n",
    "print(\"Reversed Number: \" + str(reversed_num))"
   ]
  },
  {
   "cell_type": "code",
   "execution_count": 42,
   "id": "29142257",
   "metadata": {},
   "outputs": [
    {
     "data": {
      "text/plain": [
       "2"
      ]
     },
     "execution_count": 42,
     "metadata": {},
     "output_type": "execute_result"
    }
   ],
   "source": [
    "32%10\n"
   ]
  },
  {
   "cell_type": "code",
   "execution_count": 6,
   "id": "b9b8232e",
   "metadata": {},
   "outputs": [
    {
     "name": "stdout",
     "output_type": "stream",
     "text": [
      "number you want to print: 345\n",
      "THREE FOUR FIVE "
     ]
    }
   ],
   "source": [
    "d = {0:'ZERO', 1 : 'ONE', 2 :'TWO', 3 : 'THREE', 4 : 'FOUR', 5 : 'FIVE', 6 : 'SIX', 7 : 'SEVEN', 8 : 'EIGHT', 9 :'NINE'}\n",
    "n = int(input(\"number you want to print: \"))\n",
    "st = str(n)\n",
    "for i in st:\n",
    "    i = int(i)\n",
    "    print(d[i],end=\" \")"
   ]
  },
  {
   "cell_type": "code",
   "execution_count": 3,
   "id": "4ce1837c",
   "metadata": {},
   "outputs": [
    {
     "name": "stdout",
     "output_type": "stream",
     "text": [
      "THREE FOUR FIVE SIX \n"
     ]
    }
   ],
   "source": [
    "d = {1 : 'ONE', 2 : 'TWO', 3 : 'THREE', 4 : 'FOUR', 5 : 'FIVE', 6 : 'SIX', 7 : 'SEVEN', 8 : 'EIGHT', 9 : 'NINE'}\n",
    "s = \"3456\"\n",
    "\n",
    "\n",
    "for e in s:\n",
    "    print(d[eval(e)], end=\" \")\n",
    "\n",
    "\n",
    "print()"
   ]
  },
  {
   "cell_type": "code",
   "execution_count": 43,
   "id": "38ac1317",
   "metadata": {},
   "outputs": [
    {
     "name": "stdout",
     "output_type": "stream",
     "text": [
      "Number of digits :  9\n"
     ]
    }
   ],
   "source": [
    "def countDigit(n):\n",
    "    count = 0\n",
    "    while n != 0:\n",
    "        n //= 10\n",
    "        count += 1\n",
    "    return count\n",
    " \n",
    " \n",
    "#Driver Code\n",
    "n = 345289467\n",
    "print(\"Number of digits : % d\" % (countDigit(n)))"
   ]
  },
  {
   "cell_type": "code",
   "execution_count": 15,
   "id": "7b890569",
   "metadata": {},
   "outputs": [
    {
     "name": "stdout",
     "output_type": "stream",
     "text": [
      "x = 0.0 sol = -1.0\n",
      "x = 0.1 sol = -0.8901665833531718\n",
      "x = 0.2 sol = -0.7613306692049387\n",
      "x = 0.30000000000000004 sol = -0.6144797933386603\n",
      "x = 0.4 sol = -0.4505816576913495\n",
      "x = 0.5 sol = -0.270574461395797\n",
      "x = 0.6000000000000001 sol = -0.07535752660496442\n",
      "x = 0.7000000000000001 sol = 0.13421768723769123\n",
      "x = 0.8 sol = 0.3573560908995228\n",
      "x = 0.9 sol = 0.5933269096274834\n",
      "The Desired Interval: 0.6000000000000001 0.7000000000000001\n"
     ]
    }
   ],
   "source": [
    "import numpy as np\n",
    "import math as m\n",
    "def f(x):\n",
    "    return m.sin(x) + x**2 - 1\n",
    "\n",
    "for i in np.arange(0,1,0.1):\n",
    "    print(\"x =\",i,\"sol =\",f(i))\n",
    "    \n",
    "for i in np.arange(0,1,0.1):\n",
    "    if f(i)<0 and f(i+0.1)>0:\n",
    "            print(\"The Desired Interval:\",i,i+0.1)"
   ]
  },
  {
   "cell_type": "code",
   "execution_count": 46,
   "id": "e0794da5",
   "metadata": {},
   "outputs": [
    {
     "name": "stdout",
     "output_type": "stream",
     "text": [
      "0.600000 -0.075358 0.700000 0.134218 0.650000 0.027686\n",
      "0.600000 -0.075358 0.650000 0.027686 0.625000 -0.024278\n",
      "0.625000 -0.024278 0.650000 0.027686 0.637500 0.001595\n",
      "0.625000 -0.024278 0.637500 0.001595 0.631250 -0.011369\n",
      "0.631250 -0.011369 0.637500 0.001595 0.634375 -0.004894\n",
      "0.634375 -0.004894 0.637500 0.001595 0.635937 -0.001651\n",
      "0.635937 -0.001651 0.637500 0.001595 0.636719 -0.000029\n",
      "The root is  0.6367\n",
      "[0.6499999999999999, 0.625, 0.6375, 0.63125, 0.6343749999999999, 0.6359374999999999, 0.63671875]\n"
     ]
    }
   ],
   "source": [
    "import matplotlib.pyplot as plt\n",
    "import numpy as np\n",
    "import math as m\n",
    "\n",
    "def f(x):\n",
    "    return m.sin(x) + x**2 - 1\n",
    "    #return math.sin(x)\n",
    "\n",
    "'''\n",
    "def bisection1(a, b):\n",
    "    if(f(a)*f(b)>=0):\n",
    "        print(\"Invalid interval!\")\n",
    "        return\n",
    "    mid = a\n",
    "    x = []\n",
    "    y = []\n",
    "    for i in range(1, 101, 1):\n",
    "        mid = (a + b)/2.0\n",
    "        if(f(a)*f(mid) < 0):\n",
    "            b = mid\n",
    "        else:\n",
    "            a = mid    \n",
    "        print(\"%f %f %f %f %f %f\" %(a, f(a), b, f(b), mid, f(mid)))\n",
    "\n",
    "        x.append(mid)\n",
    "        y.append(f(mid))\n",
    "\n",
    "    return mid, x, y\n",
    "'''\n",
    "\n",
    "def bisection(a, b):\n",
    "    if(f(a)*f(b)>=0):\n",
    "        print(\"Invalid interval!\")\n",
    "        return\n",
    "    mid = a\n",
    "    x = []\n",
    "    y = []\n",
    "    while (b - a) >= 0.001:\n",
    "        mid = (a + b)/2.0\n",
    "        print(\"%f %f %f %f %f %f\" %(a, f(a), b, f(b), mid, f(mid)))\n",
    "        if(f(a)*f(mid) < 0):\n",
    "            b = mid\n",
    "        else:\n",
    "            a = mid  \n",
    "\n",
    "        x.append(mid)\n",
    "        y.append(f(mid))\n",
    "\n",
    "    return mid, x, y\n",
    "\n",
    "sol, x, y = bisection(0.6, 0.7)\n",
    "print(\"The root is \", \"%.4f\"%sol)\n",
    "\n",
    "print(x)"
   ]
  },
  {
   "cell_type": "code",
   "execution_count": 9,
   "id": "b58cc5fe",
   "metadata": {},
   "outputs": [
    {
     "name": "stdout",
     "output_type": "stream",
     "text": [
      "x= -1.7142857142857144 f(x) -0.38483965014577315 h= -0.2857142857142857\n",
      "x= -1.626578073089701 f(x) -0.031194766025515408 h= -0.08770764119601336\n",
      "x= -1.6181106971045955 f(x) -0.0002775561131769244 h= -0.008467375985105472\n",
      "x= -1.6180339950172198 f(x) -2.267539533917784e-08 h= -7.67020873757192e-05\n",
      "The root is -1.6180339950172198\n"
     ]
    }
   ],
   "source": [
    "import matplotlib.pyplot as plt\n",
    "import numpy as np\n",
    "import math\n",
    "\n",
    "def f(x):\n",
    "    return x**3 + x**2 - x\n",
    "    \n",
    "def df(x):\n",
    "    return 3*x**2 + 2*x -1\n",
    "   \n",
    "def new_rap(x):\n",
    "    h=f(x)/df(x)\n",
    "    while (abs(f(x))>0.0001):\n",
    "        h=f(x)/df(x)\n",
    "        x = x-h\n",
    "        print(\"x=\",x,\"f(x)\",f(x),\"h=\",h)\n",
    "    print(\"The root is\", x)\n",
    "#print(\"The root is\", \"%.4f\"%new_rap(0.6))\n",
    "#print(\"root is\", new_rap(0.6))\n",
    "new_rap(-2)"
   ]
  },
  {
   "cell_type": "code",
   "execution_count": null,
   "id": "52660035",
   "metadata": {},
   "outputs": [],
   "source": []
  },
  {
   "cell_type": "code",
   "execution_count": 19,
   "id": "edf57502",
   "metadata": {},
   "outputs": [
    {
     "name": "stdout",
     "output_type": "stream",
     "text": [
      "hello world\n",
      "i am kumarjit\n",
      "i am a robot\n"
     ]
    }
   ],
   "source": [
    "print(\"hello world\\ni am kumarjit\\ni am a robot\")"
   ]
  },
  {
   "cell_type": "code",
   "execution_count": 7,
   "id": "e7e188d8",
   "metadata": {},
   "outputs": [
    {
     "name": "stdout",
     "output_type": "stream",
     "text": [
      "Enter the number of rows: 5\n",
      "\n",
      "1 \n",
      "1 2 \n",
      "1 2 3 \n",
      "1 2 3 4 \n",
      "1 2 3 4 5 \n"
     ]
    }
   ],
   "source": [
    "n = int(input(\"Enter the number of rows: \"))\n",
    "for i in range(n+1):\n",
    "    for j in range(1,i+1):\n",
    "        print(j, end =\" \")\n",
    "    print()   "
   ]
  },
  {
   "cell_type": "code",
   "execution_count": 15,
   "id": "a9a83b28",
   "metadata": {},
   "outputs": [
    {
     "ename": "TypeError",
     "evalue": "only integer scalar arrays can be converted to a scalar index",
     "output_type": "error",
     "traceback": [
      "\u001b[1;31m---------------------------------------------------------------------------\u001b[0m",
      "\u001b[1;31mTypeError\u001b[0m                                 Traceback (most recent call last)",
      "\u001b[1;32mC:\\Users\\KUMARJ~1\\AppData\\Local\\Temp/ipykernel_42920/2832425785.py\u001b[0m in \u001b[0;36m<module>\u001b[1;34m\u001b[0m\n\u001b[0;32m      2\u001b[0m \u001b[0mn\u001b[0m \u001b[1;33m=\u001b[0m \u001b[0mnp\u001b[0m\u001b[1;33m.\u001b[0m\u001b[0marange\u001b[0m\u001b[1;33m(\u001b[0m\u001b[1;36m1\u001b[0m\u001b[1;33m,\u001b[0m\u001b[1;36m4.5\u001b[0m\u001b[1;33m,\u001b[0m\u001b[1;36m0.5\u001b[0m\u001b[1;33m)\u001b[0m\u001b[1;33m\u001b[0m\u001b[1;33m\u001b[0m\u001b[0m\n\u001b[0;32m      3\u001b[0m \u001b[0mn1\u001b[0m \u001b[1;33m=\u001b[0m \u001b[0mnp\u001b[0m\u001b[1;33m.\u001b[0m\u001b[0mconcatenate\u001b[0m\u001b[1;33m(\u001b[0m\u001b[1;33m[\u001b[0m\u001b[0mn\u001b[0m\u001b[1;33m]\u001b[0m\u001b[1;33m)\u001b[0m\u001b[1;33m\u001b[0m\u001b[1;33m\u001b[0m\u001b[0m\n\u001b[1;32m----> 4\u001b[1;33m \u001b[1;32mfor\u001b[0m \u001b[0mi\u001b[0m \u001b[1;32min\u001b[0m \u001b[0mrange\u001b[0m\u001b[1;33m(\u001b[0m\u001b[0mn1\u001b[0m\u001b[1;33m+\u001b[0m\u001b[1;36m1\u001b[0m\u001b[1;33m)\u001b[0m\u001b[1;33m:\u001b[0m\u001b[1;33m\u001b[0m\u001b[1;33m\u001b[0m\u001b[0m\n\u001b[0m\u001b[0;32m      5\u001b[0m     \u001b[1;32mfor\u001b[0m \u001b[0mj\u001b[0m \u001b[1;32min\u001b[0m \u001b[0mrange\u001b[0m\u001b[1;33m(\u001b[0m\u001b[0mi\u001b[0m\u001b[1;33m+\u001b[0m\u001b[1;36m1\u001b[0m\u001b[1;33m)\u001b[0m\u001b[1;33m:\u001b[0m\u001b[1;33m\u001b[0m\u001b[1;33m\u001b[0m\u001b[0m\n\u001b[0;32m      6\u001b[0m         \u001b[0mprint\u001b[0m\u001b[1;33m(\u001b[0m\u001b[0mj\u001b[0m\u001b[1;33m,\u001b[0m \u001b[0mend\u001b[0m\u001b[1;33m=\u001b[0m\u001b[1;34m\" \"\u001b[0m\u001b[1;33m)\u001b[0m\u001b[1;33m\u001b[0m\u001b[1;33m\u001b[0m\u001b[0m\n",
      "\u001b[1;31mTypeError\u001b[0m: only integer scalar arrays can be converted to a scalar index"
     ]
    }
   ],
   "source": [
    "import numpy as np\n",
    "n = np.arange(1,4.5,0.5)\n",
    "n1 = np.concatenate([n])\n",
    "for i in range(n1+1):\n",
    "    for j in range(i+1):\n",
    "        print(j, end=\" \")\n",
    "    print()"
   ]
  },
  {
   "cell_type": "code",
   "execution_count": 22,
   "id": "68692f35",
   "metadata": {},
   "outputs": [
    {
     "ename": "TypeError",
     "evalue": "only size-1 arrays can be converted to Python scalars",
     "output_type": "error",
     "traceback": [
      "\u001b[1;31m---------------------------------------------------------------------------\u001b[0m",
      "\u001b[1;31mTypeError\u001b[0m                                 Traceback (most recent call last)",
      "\u001b[1;32mC:\\Users\\KUMARJ~1\\AppData\\Local\\Temp/ipykernel_42920/4274463297.py\u001b[0m in \u001b[0;36m<module>\u001b[1;34m\u001b[0m\n\u001b[0;32m      1\u001b[0m \u001b[1;32mimport\u001b[0m \u001b[0mnumpy\u001b[0m \u001b[1;32mas\u001b[0m \u001b[0mnp\u001b[0m\u001b[1;33m\u001b[0m\u001b[1;33m\u001b[0m\u001b[0m\n\u001b[0;32m      2\u001b[0m \u001b[0mn\u001b[0m \u001b[1;33m=\u001b[0m \u001b[0mnp\u001b[0m\u001b[1;33m.\u001b[0m\u001b[0marange\u001b[0m\u001b[1;33m(\u001b[0m\u001b[1;36m1\u001b[0m\u001b[1;33m,\u001b[0m\u001b[1;36m4.5\u001b[0m\u001b[1;33m,\u001b[0m\u001b[1;36m0.5\u001b[0m\u001b[1;33m)\u001b[0m\u001b[1;33m\u001b[0m\u001b[1;33m\u001b[0m\u001b[0m\n\u001b[1;32m----> 3\u001b[1;33m \u001b[0mn1\u001b[0m \u001b[1;33m=\u001b[0m \u001b[0mint\u001b[0m\u001b[1;33m(\u001b[0m\u001b[0mn\u001b[0m\u001b[1;33m)\u001b[0m\u001b[1;33m\u001b[0m\u001b[1;33m\u001b[0m\u001b[0m\n\u001b[0m\u001b[0;32m      4\u001b[0m \u001b[0mn1\u001b[0m\u001b[1;33m\u001b[0m\u001b[1;33m\u001b[0m\u001b[0m\n\u001b[0;32m      5\u001b[0m \u001b[1;31m# for i in range(n1):\u001b[0m\u001b[1;33m\u001b[0m\u001b[1;33m\u001b[0m\u001b[0m\n",
      "\u001b[1;31mTypeError\u001b[0m: only size-1 arrays can be converted to Python scalars"
     ]
    }
   ],
   "source": [
    "import numpy as np\n",
    "n = np.arange(1,4.5,0.5)\n",
    "n1 = int(n)\n",
    "n1\n",
    "# for i in range(n1):\n",
    "#     for j in range(i+1):\n",
    "#         print(j, end=\" \")\n",
    "#     print()"
   ]
  },
  {
   "cell_type": "code",
   "execution_count": null,
   "id": "495ffafc",
   "metadata": {},
   "outputs": [],
   "source": []
  },
  {
   "cell_type": "code",
   "execution_count": null,
   "id": "965f91a9",
   "metadata": {},
   "outputs": [],
   "source": []
  },
  {
   "cell_type": "code",
   "execution_count": null,
   "id": "55e76c56",
   "metadata": {},
   "outputs": [],
   "source": []
  },
  {
   "cell_type": "code",
   "execution_count": null,
   "id": "02a357d4",
   "metadata": {},
   "outputs": [],
   "source": []
  },
  {
   "cell_type": "code",
   "execution_count": null,
   "id": "18a4fac9",
   "metadata": {},
   "outputs": [],
   "source": []
  },
  {
   "cell_type": "code",
   "execution_count": null,
   "id": "a2b61bfb",
   "metadata": {},
   "outputs": [],
   "source": []
  },
  {
   "cell_type": "code",
   "execution_count": null,
   "id": "0a2da45f",
   "metadata": {},
   "outputs": [],
   "source": []
  },
  {
   "cell_type": "code",
   "execution_count": null,
   "id": "b745e3bb",
   "metadata": {},
   "outputs": [],
   "source": []
  },
  {
   "cell_type": "code",
   "execution_count": null,
   "id": "d40e69b5",
   "metadata": {},
   "outputs": [],
   "source": []
  }
 ],
 "metadata": {
  "kernelspec": {
   "display_name": "Python 3 (ipykernel)",
   "language": "python",
   "name": "python3"
  },
  "language_info": {
   "codemirror_mode": {
    "name": "ipython",
    "version": 3
   },
   "file_extension": ".py",
   "mimetype": "text/x-python",
   "name": "python",
   "nbconvert_exporter": "python",
   "pygments_lexer": "ipython3",
   "version": "3.9.7"
  }
 },
 "nbformat": 4,
 "nbformat_minor": 5
}
