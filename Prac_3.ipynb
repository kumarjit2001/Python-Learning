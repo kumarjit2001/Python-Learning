{
 "cells": [
  {
   "cell_type": "code",
   "execution_count": 6,
   "id": "753e2063",
   "metadata": {},
   "outputs": [
    {
     "name": "stdout",
     "output_type": "stream",
     "text": [
      "[1, 2, 3, 4, 5, 6, 7, 8]\n"
     ]
    }
   ],
   "source": [
    "#q1\n",
    "L = [1,3,5,7]\n",
    "for i in range(2,10,2):\n",
    "    L.append(i)\n",
    "L.sort()\n",
    "print(L)"
   ]
  },
  {
   "cell_type": "code",
   "execution_count": 24,
   "id": "08435765",
   "metadata": {},
   "outputs": [
    {
     "name": "stdout",
     "output_type": "stream",
     "text": [
      "[1, 2, 3, 4, 5, 6, 7]\n"
     ]
    }
   ],
   "source": [
    "#q2\n",
    "L =[1, 2, 3, 4, 5, 6, 7, 8]\n",
    "n = len(L)\n",
    "del L[n-1]\n",
    "print(L)"
   ]
  },
  {
   "cell_type": "code",
   "execution_count": 51,
   "id": "e056e424",
   "metadata": {},
   "outputs": [
    {
     "name": "stdout",
     "output_type": "stream",
     "text": [
      "[1, 2, 3, 4, 5, 6, 7]\n"
     ]
    }
   ],
   "source": [
    "#q2\n",
    "L =[1, 2, 3, 4, 5, 6, 7, 8]\n",
    "L.pop(7)\n",
    "print(L)"
   ]
  },
  {
   "cell_type": "markdown",
   "id": "69b95d6a",
   "metadata": {},
   "source": [
    "To Learn stack: - https://www.youtube.com/watch?v=YbEvNaOxZCQ"
   ]
  },
  {
   "cell_type": "code",
   "execution_count": 50,
   "id": "927ad2c0",
   "metadata": {},
   "outputs": [
    {
     "name": "stdout",
     "output_type": "stream",
     "text": [
      "Enter the max Push limit: 2\n",
      "What you want to store: nk\n",
      "Enter your nk1\n",
      "Enter your nk2\n",
      "['1', '2']\n"
     ]
    }
   ],
   "source": [
    "#q3\n",
    "l = int(input(\"Enter the max Push limit: \"))\n",
    "d = str(input(\"What you want to store: \"))\n",
    "def Push(L):\n",
    "    L =[]\n",
    "    for i in range(l):\n",
    "        n = input(\"Enter your \"+d)\n",
    "        L.append(n)\n",
    "    print(L)\n",
    "    \n",
    "Push(l)"
   ]
  },
  {
   "cell_type": "code",
   "execution_count": null,
   "id": "a12acc98",
   "metadata": {},
   "outputs": [],
   "source": [
    "#q4\n"
   ]
  },
  {
   "cell_type": "code",
   "execution_count": 59,
   "id": "c6e891ae",
   "metadata": {},
   "outputs": [
    {
     "name": "stdout",
     "output_type": "stream",
     "text": [
      "Enter the stack limit: 4\n",
      "Enter the name: as\n",
      "Enter the name: ad\n",
      "Enter the name: af\n",
      "Enter the name: ag\n",
      "['as', 'ad', 'af', 'ag']\n"
     ]
    }
   ],
   "source": [
    "#q5\n",
    "n = int(input(\"Enter the stack limit: \"))\n",
    "Lst = []\n",
    "i = 0\n",
    "for i in range(n):\n",
    "    nm = str(input(\"Enter the name: \"))\n",
    "    Lst.append(nm)\n",
    "print(Lst)"
   ]
  },
  {
   "cell_type": "code",
   "execution_count": 60,
   "id": "5d90a569",
   "metadata": {},
   "outputs": [
    {
     "name": "stdout",
     "output_type": "stream",
     "text": [
      "['af', 'ad', 'as']\n"
     ]
    }
   ],
   "source": [
    "Lst.pop()\n",
    "Lst.reverse()\n",
    "print(Lst)"
   ]
  },
  {
   "cell_type": "code",
   "execution_count": 64,
   "id": "17d36b25",
   "metadata": {},
   "outputs": [
    {
     "name": "stdout",
     "output_type": "stream",
     "text": [
      "Enter the max Push limit: 5\n",
      "What you want to store: number\n"
     ]
    },
    {
     "ename": "TypeError",
     "evalue": "raw_input() takes from 1 to 2 positional arguments but 3 were given",
     "output_type": "error",
     "traceback": [
      "\u001b[1;31m---------------------------------------------------------------------------\u001b[0m",
      "\u001b[1;31mTypeError\u001b[0m                                 Traceback (most recent call last)",
      "\u001b[1;32mC:\\Users\\KUMARJ~1\\AppData\\Local\\Temp/ipykernel_41608/3766649219.py\u001b[0m in \u001b[0;36m<module>\u001b[1;34m\u001b[0m\n\u001b[0;32m      6\u001b[0m \u001b[0mL\u001b[0m \u001b[1;33m=\u001b[0m\u001b[1;33m[\u001b[0m\u001b[1;33m]\u001b[0m\u001b[1;33m\u001b[0m\u001b[1;33m\u001b[0m\u001b[0m\n\u001b[0;32m      7\u001b[0m \u001b[1;32mfor\u001b[0m \u001b[0mi\u001b[0m \u001b[1;32min\u001b[0m \u001b[0mrange\u001b[0m\u001b[1;33m(\u001b[0m\u001b[0ml\u001b[0m\u001b[1;33m)\u001b[0m\u001b[1;33m:\u001b[0m\u001b[1;33m\u001b[0m\u001b[1;33m\u001b[0m\u001b[0m\n\u001b[1;32m----> 8\u001b[1;33m     \u001b[0mn\u001b[0m \u001b[1;33m=\u001b[0m \u001b[0minput\u001b[0m\u001b[1;33m(\u001b[0m\u001b[1;34m\"Enter your \"\u001b[0m\u001b[1;33m+\u001b[0m\u001b[0md\u001b[0m\u001b[1;33m,\u001b[0m \u001b[1;34m\" \"\u001b[0m\u001b[1;33m)\u001b[0m\u001b[1;33m\u001b[0m\u001b[1;33m\u001b[0m\u001b[0m\n\u001b[0m\u001b[0;32m      9\u001b[0m     \u001b[0mL\u001b[0m\u001b[1;33m.\u001b[0m\u001b[0mappend\u001b[0m\u001b[1;33m(\u001b[0m\u001b[0mn\u001b[0m\u001b[1;33m)\u001b[0m\u001b[1;33m\u001b[0m\u001b[1;33m\u001b[0m\u001b[0m\n\u001b[0;32m     10\u001b[0m \u001b[0mprint\u001b[0m\u001b[1;33m(\u001b[0m\u001b[0mL\u001b[0m\u001b[1;33m)\u001b[0m\u001b[1;33m\u001b[0m\u001b[1;33m\u001b[0m\u001b[0m\n",
      "\u001b[1;31mTypeError\u001b[0m: raw_input() takes from 1 to 2 positional arguments but 3 were given"
     ]
    }
   ],
   "source": [
    "#q7\n",
    "lis_2=[]\n",
    "l = int(input(\"Enter the max Push limit: \"))\n",
    "d = str(input(\"What you want to store: \"))\n",
    "\n",
    "L =[]\n",
    "for i in range(l):\n",
    "    n = input(\"Enter your \"+d, \" \")\n",
    "    L.append(n)\n",
    "print(L)\n",
    "    \n",
    "\n",
    "\n",
    "for j in L:\n",
    "    if j not in lis_2:\n",
    "        lis_2.append(i)\n",
    "        \n",
    "print(lis_2)"
   ]
  },
  {
   "cell_type": "code",
   "execution_count": null,
   "id": "9cf949a8",
   "metadata": {},
   "outputs": [],
   "source": []
  },
  {
   "cell_type": "code",
   "execution_count": null,
   "id": "ab57b5ab",
   "metadata": {},
   "outputs": [],
   "source": []
  },
  {
   "cell_type": "code",
   "execution_count": null,
   "id": "27ddf83e",
   "metadata": {},
   "outputs": [],
   "source": []
  },
  {
   "cell_type": "code",
   "execution_count": 66,
   "id": "7b890569",
   "metadata": {},
   "outputs": [
    {
     "name": "stdout",
     "output_type": "stream",
     "text": [
      "x = 0.0 sol = -1.0\n",
      "x = 0.1 sol = -0.8901665833531718\n",
      "x = 0.2 sol = -0.7613306692049387\n",
      "x = 0.30000000000000004 sol = -0.6144797933386603\n",
      "x = 0.4 sol = -0.4505816576913495\n",
      "x = 0.5 sol = -0.270574461395797\n",
      "x = 0.6000000000000001 sol = -0.07535752660496442\n",
      "x = 0.7000000000000001 sol = 0.13421768723769123\n",
      "x = 0.8 sol = 0.3573560908995228\n",
      "x = 0.9 sol = 0.5933269096274834\n",
      "The Desired Interval: 0.6000000000000001 0.7000000000000001\n"
     ]
    }
   ],
   "source": [
    "import math as m\n",
    "def f(x):\n",
    "    return m.sin(x) + x**2 - 1\n",
    "\n",
    "for i in np.arange(0,1,0.1):\n",
    "    print(\"x =\",i,\"sol =\",f(i))\n",
    "    \n",
    "for i in np.arange(0,1,0.1):\n",
    "    if f(i)<0 and f(i+0.1)>0:\n",
    "            print(\"The Desired Interval:\",i,i+0.1)"
   ]
  },
  {
   "cell_type": "code",
   "execution_count": 71,
   "id": "e0794da5",
   "metadata": {},
   "outputs": [
    {
     "name": "stdout",
     "output_type": "stream",
     "text": [
      "0.600000 -0.075358 0.700000 0.134218 0.650000 0.027686\n",
      "0.600000 -0.075358 0.650000 0.027686 0.625000 -0.024278\n",
      "0.625000 -0.024278 0.650000 0.027686 0.637500 0.001595\n",
      "0.625000 -0.024278 0.637500 0.001595 0.631250 -0.011369\n",
      "0.631250 -0.011369 0.637500 0.001595 0.634375 -0.004894\n",
      "0.634375 -0.004894 0.637500 0.001595 0.635937 -0.001651\n",
      "0.635937 -0.001651 0.637500 0.001595 0.636719 -0.000029\n",
      "The root is  0.6367\n",
      "[0.6499999999999999, 0.625, 0.6375, 0.63125, 0.6343749999999999, 0.6359374999999999, 0.63671875]\n"
     ]
    }
   ],
   "source": [
    "import matplotlib.pyplot as plt\n",
    "import numpy as np\n",
    "import math as m\n",
    "\n",
    "def f(x):\n",
    "    return m.sin(x) + x**2 - 1\n",
    "    #return math.sin(x)\n",
    "\n",
    "\n",
    "def bisection1(a, b):\n",
    "    if(f(a)*f(b)>=0):\n",
    "        print(\"Invalid interval!\")\n",
    "        return\n",
    "    mid = a\n",
    "    x = []\n",
    "    y = []\n",
    "    for i in range(1, 101, 1):\n",
    "        mid = (a + b)/2.0\n",
    "        if(f(a)*f(mid) < 0):\n",
    "            b = mid\n",
    "        else:\n",
    "            a = mid    \n",
    "        print(\"%f %f %f %f %f %f\" %(a, f(a), b, f(b), mid, f(mid)))\n",
    "\n",
    "        x.append(mid)\n",
    "        y.append(f(mid))\n",
    "\n",
    "    return mid, x, y\n",
    "\n",
    "def bisection(a, b):\n",
    "    if(f(a)*f(b)>=0):\n",
    "        print(\"Invalid interval!\")\n",
    "        return\n",
    "    mid = a\n",
    "    x = []\n",
    "    y = []\n",
    "    while (b - a) >= 0.001:\n",
    "        mid = (a + b)/2.0\n",
    "        print(\"%f %f %f %f %f %f\" %(a, f(a), b, f(b), mid, f(mid)))\n",
    "        if(f(a)*f(mid) < 0):\n",
    "            b = mid\n",
    "        else:\n",
    "            a = mid  \n",
    "\n",
    "        x.append(mid)\n",
    "        y.append(f(mid))\n",
    "\n",
    "    return mid, x, y\n",
    "\n",
    "sol, x, y = bisection(0.6, 0.7)\n",
    "print(\"The root is \", \"%.4f\"%sol)\n",
    "\n",
    "print(x)"
   ]
  },
  {
   "cell_type": "code",
   "execution_count": 70,
   "id": "b58cc5fe",
   "metadata": {},
   "outputs": [
    {
     "name": "stdout",
     "output_type": "stream",
     "text": [
      "x, f, df, h values: 0.618750 0.000991 1.386055 -0.018750\n",
      "x, f, df, h values: 0.618035 0.000001 1.381972 0.000715\n",
      "The root is  0.6180\n"
     ]
    }
   ],
   "source": [
    "import matplotlib.pyplot as plt\n",
    "import numpy as np\n",
    "import math\n",
    "\n",
    "def f(x):\n",
    "    return x**3 + x**2 - x\n",
    "    \n",
    "def df(x):\n",
    "    return 3*x**2 + 2*x -1\n",
    "   \n",
    "\n",
    "def df_num(x):\n",
    "    h = 0.00001\n",
    "    return (f(x+h) - f(x))/h\n",
    "\n",
    "def newtonRaphson(x):\n",
    "    h = f(x)/df(x)\n",
    "    while abs(f(x)) >= 0.0001:\n",
    "        h = f(x)/df(x)\n",
    "        x = x - h\n",
    "        print('x, f, df, h values: %f %f %f %f' %(x, f(x), df(x), h))\n",
    "    return x\n",
    "\n",
    "print(\"The root is \", \"%.4f\"%newtonRaphson(0.6))"
   ]
  },
  {
   "cell_type": "code",
   "execution_count": null,
   "id": "52660035",
   "metadata": {},
   "outputs": [],
   "source": []
  },
  {
   "cell_type": "code",
   "execution_count": null,
   "id": "edf57502",
   "metadata": {},
   "outputs": [],
   "source": []
  },
  {
   "cell_type": "code",
   "execution_count": null,
   "id": "e7e188d8",
   "metadata": {},
   "outputs": [],
   "source": []
  }
 ],
 "metadata": {
  "kernelspec": {
   "display_name": "Python 3 (ipykernel)",
   "language": "python",
   "name": "python3"
  },
  "language_info": {
   "codemirror_mode": {
    "name": "ipython",
    "version": 3
   },
   "file_extension": ".py",
   "mimetype": "text/x-python",
   "name": "python",
   "nbconvert_exporter": "python",
   "pygments_lexer": "ipython3",
   "version": "3.9.7"
  }
 },
 "nbformat": 4,
 "nbformat_minor": 5
}
