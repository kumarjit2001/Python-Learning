{
 "cells": [
  {
   "cell_type": "code",
   "execution_count": 8,
   "id": "a192cafa",
   "metadata": {},
   "outputs": [],
   "source": [
    "import numpy as np\n",
    "import matplotlib.pyplot as plt\n",
    "import math as m\n",
    "from intersect import intersection"
   ]
  },
  {
   "cell_type": "markdown",
   "id": "9d2fff88",
   "metadata": {},
   "source": [
    "# Tabular Method"
   ]
  },
  {
   "cell_type": "code",
   "execution_count": 3,
   "id": "b2bfb8d5",
   "metadata": {},
   "outputs": [
    {
     "name": "stdout",
     "output_type": "stream",
     "text": [
      "0.0\n",
      "0.1\n",
      "0.2\n",
      "0.30000000000000004\n",
      "0.4\n",
      "0.5\n",
      "0.6000000000000001\n",
      "0.7000000000000001\n",
      "0.8\n",
      "0.9\n"
     ]
    }
   ],
   "source": [
    "import numpy as np\n",
    "\n",
    "# float step\n",
    "for i in np.arange(0, 1, 0.1):\n",
    "    print(i)"
   ]
  },
  {
   "cell_type": "code",
   "execution_count": 4,
   "id": "0212b057",
   "metadata": {},
   "outputs": [
    {
     "name": "stdout",
     "output_type": "stream",
     "text": [
      "x = 0.0 sol = -3.0\n",
      "x = 0.1 sol = -2.6410745882058326\n",
      "x = 0.2 sol = -2.2151068075388864\n",
      "x = 0.30000000000000004 sol = -1.7047376850311204\n",
      "x = 0.4 sol = -1.08811356849042\n",
      "x = 0.5 sol = -0.3377223398316205\n",
      "The Desired Interval: 0.5 0.6\n",
      "x = 0.6000000000000001 sol = 0.5810717055349732\n",
      "x = 0.7000000000000001 sol = 1.711872336272724\n",
      "x = 0.8 sol = 3.109573444801933\n",
      "x = 0.9 sol = 4.843282347242816\n"
     ]
    }
   ],
   "source": [
    "def f(x):\n",
    "    return 10**x + x - 4\n",
    "\n",
    "for i in np.arange(0,1,0.1):\n",
    "    print(\"x =\",i,\"sol =\",f(i))\n",
    "    \n",
    "    if f(i)<0:\n",
    "        if f(i+0.1)>0:\n",
    "            print(\"The Desired Interval:\",i,i+0.1)\n"
   ]
  },
  {
   "cell_type": "code",
   "execution_count": 5,
   "id": "96c52d24",
   "metadata": {},
   "outputs": [
    {
     "name": "stdout",
     "output_type": "stream",
     "text": [
      "x = 0.0 sol = -3.0\n",
      "x = 0.1 sol = -2.6410745882058326\n",
      "x = 0.2 sol = -2.2151068075388864\n",
      "x = 0.30000000000000004 sol = -1.7047376850311204\n",
      "x = 0.4 sol = -1.08811356849042\n",
      "x = 0.5 sol = -0.3377223398316205\n",
      "x = 0.6000000000000001 sol = 0.5810717055349732\n",
      "x = 0.7000000000000001 sol = 1.711872336272724\n",
      "x = 0.8 sol = 3.109573444801933\n",
      "x = 0.9 sol = 4.843282347242816\n",
      "The Desired Interval: 0.5 0.6\n"
     ]
    }
   ],
   "source": [
    "def f(x):\n",
    "    return 10**x + x - 4\n",
    "\n",
    "for i in np.arange(0,1,0.1):\n",
    "    print(\"x =\",i,\"sol =\",f(i))\n",
    "    \n",
    "for i in np.arange(0,1,0.1):\n",
    "    if f(i)<0 and f(i+0.1)>0:\n",
    "            print(\"The Desired Interval:\",i,i+0.1)"
   ]
  },
  {
   "cell_type": "code",
   "execution_count": 13,
   "id": "86fbd301",
   "metadata": {},
   "outputs": [
    {
     "name": "stdout",
     "output_type": "stream",
     "text": [
      "x = 0.0 sol = -3.0\n",
      "x = 0.1 sol = -2.6410745882058326\n",
      "x = 0.2 sol = -2.2151068075388864\n",
      "x = 0.30000000000000004 sol = -1.7047376850311204\n",
      "x = 0.4 sol = -1.08811356849042\n",
      "x = 0.5 sol = -0.3377223398316205\n",
      "x = 0.6000000000000001 sol = 0.5810717055349732\n",
      "x = 0.7000000000000001 sol = 1.711872336272724\n",
      "x = 0.8 sol = 3.109573444801933\n",
      "x = 0.9 sol = 4.843282347242816\n",
      "The Desired Interval: 0.5 0.6\n"
     ]
    },
    {
     "data": {
      "image/png": "[encoded data removed]",
      "text/plain": [
       "<Figure size 432x288 with 1 Axes>"
      ]
     },
     "metadata": {
      "needs_background": "light"
     },
     "output_type": "display_data"
    }
   ],
   "source": [
    "def f(x):\n",
    "    return 10**x + x - 4\n",
    "\n",
    "for i in np.arange(0,1,0.1):\n",
    "    print(\"x =\",i,\"sol =\",f(i))\n",
    "    \n",
    "for i in np.arange(0,1,0.1):\n",
    "    if f(i)<0 and f(i+0.1)>0:\n",
    "            print(\"The Desired Interval:\",i,i+0.1)\n",
    "            \n",
    "x = np.arange(0,1,0.1)\n",
    "y = f(x)\n",
    "plt.plot(x,y)\n",
    "plt.xticks(x)\n",
    "\n",
    "y1 = 0\n",
    "x1 = 0\n",
    "c = plt.axhline(y=0)\n",
    "\n",
    "#x2,y2 = intersection(x,y,x1,y1)\n",
    "#ply.plot(x1,y1,\"*k\")\n",
    "\n",
    "plt.grid()\n",
    "plt.show()"
   ]
  },
  {
   "cell_type": "code",
   "execution_count": 10,
   "id": "b3280b6a",
   "metadata": {},
   "outputs": [
    {
     "name": "stdout",
     "output_type": "stream",
     "text": [
      "l1=0.0 f(l1)=-3.0 n=0.1 f2=-2.6410745882058326\n",
      "l1=0.1 f(l1)=-2.6410745882058326 n=0.2 f2=-2.2151068075388864\n",
      "l1=0.2 f(l1)=-2.2151068075388864 n=0.30000000000000004 f2=-1.7047376850311204\n",
      "l1=0.30000000000000004 f(l1)=-1.7047376850311204 n=0.4 f2=-1.08811356849042\n",
      "l1=0.4 f(l1)=-1.08811356849042 n=0.5 f2=-0.3377223398316205\n",
      "l1=0.5 f(l1)=-0.3377223398316205 n=0.6 f2=0.5810717055349723\n",
      "Desired interval :0.5 0.6\n"
     ]
    }
   ],
   "source": [
    "def f(x):\n",
    "    return 10**x + x - 4\n",
    "\n",
    "\n",
    "#i1=float(input(\"Lower number:\"))\n",
    "#i2=float(input(\"Upper number:\"))\n",
    "\n",
    "#i1, i2 = input(\"Give the interval:\").split(' ')\n",
    "\n",
    "#print(\"Interval: (\" + str(i1) + \", \" + str(i2) + \")\")\n",
    "#print(f(0.7))\n",
    "import numpy as np\n",
    "\n",
    "#f = lambda x: 10**x + x - 4\n",
    "\n",
    "i1 = 0.0 #left interval point\n",
    "i2 = 1.0 #right interval point\n",
    "\n",
    "l = i1\n",
    "r = i2\n",
    "\n",
    "f1=f(l) #value at 0.0\n",
    "l1 = l #0.0\n",
    "\n",
    "step = 0.1\n",
    "\n",
    "l+=step #0.1\n",
    "\n",
    "for n in np.arange(l, r+step, step):\n",
    "    f2=f(n)\n",
    "    print(\"l1=\" + str(l1) + \" f(l1)=\" + str(f1) + \" n=\" + str(n) + \" f2=\" + str(f2)) \n",
    "    if f1*f2 < 0.0:\n",
    "        print(\"Desired interval :\" + str(l1)+ \" \" + str(n))\n",
    "        \n",
    "        break\n",
    "\n",
    "       \n",
    "\n",
    "    l1 = n\n",
    "    f1 = f(l1)    \n",
    "\n",
    "    #print(n)"
   ]
  },
  {
   "cell_type": "markdown",
   "id": "cff2d775",
   "metadata": {},
   "source": [
    "# Bisection Method"
   ]
  },
  {
   "cell_type": "code",
   "execution_count": 22,
   "id": "10c53941",
   "metadata": {},
   "outputs": [
    {
     "name": "stdout",
     "output_type": "stream",
     "text": [
      "0.05\n",
      "0.15000000000000002\n",
      "0.25\n",
      "0.35000000000000003\n",
      "0.45\n",
      "0.55\n",
      "0.6500000000000001\n",
      "0.75\n",
      "0.8500000000000001\n",
      "0.95\n"
     ]
    }
   ],
   "source": [
    "for i in np.arange(0,1,0.1):\n",
    "    print((i+(i+0.1))/2)"
   ]
  },
  {
   "cell_type": "code",
   "execution_count": null,
   "id": "bb19f091",
   "metadata": {},
   "outputs": [],
   "source": []
  },
  {
   "cell_type": "code",
   "execution_count": null,
   "id": "8b1ce2ad",
   "metadata": {},
   "outputs": [],
   "source": []
  },
  {
   "cell_type": "code",
   "execution_count": 24,
   "id": "04945f0b",
   "metadata": {},
   "outputs": [
    {
     "name": "stdout",
     "output_type": "stream",
     "text": [
      "0.600000 -0.075358 0.700000 0.134218 0.650000 0.027686\n",
      "0.600000 -0.075358 0.650000 0.027686 0.625000 -0.024278\n",
      "0.625000 -0.024278 0.650000 0.027686 0.637500 0.001595\n",
      "0.625000 -0.024278 0.637500 0.001595 0.631250 -0.011369\n",
      "0.631250 -0.011369 0.637500 0.001595 0.634375 -0.004894\n",
      "0.634375 -0.004894 0.637500 0.001595 0.635937 -0.001651\n",
      "0.635937 -0.001651 0.637500 0.001595 0.636719 -0.000029\n",
      "The root is  0.6367\n",
      "[0.6499999999999999, 0.625, 0.6375, 0.63125, 0.6343749999999999, 0.6359374999999999, 0.63671875]\n"
     ]
    },
    {
     "ename": "TypeError",
     "evalue": "only size-1 arrays can be converted to Python scalars",
     "output_type": "error",
     "traceback": [
      "\u001b[1;31m---------------------------------------------------------------------------\u001b[0m",
      "\u001b[1;31mTypeError\u001b[0m                                 Traceback (most recent call last)",
      "\u001b[1;32mC:\\Users\\KUMARJ~1\\AppData\\Local\\Temp/ipykernel_36716/2655745562.py\u001b[0m in \u001b[0;36m<module>\u001b[1;34m\u001b[0m\n\u001b[0;32m     79\u001b[0m \u001b[1;31m#\"\"\"\u001b[0m\u001b[1;33m\u001b[0m\u001b[1;33m\u001b[0m\u001b[0m\n\u001b[0;32m     80\u001b[0m \u001b[0mxp\u001b[0m \u001b[1;33m=\u001b[0m \u001b[0mnp\u001b[0m\u001b[1;33m.\u001b[0m\u001b[0mlinspace\u001b[0m\u001b[1;33m(\u001b[0m\u001b[1;33m-\u001b[0m\u001b[1;36m1\u001b[0m\u001b[1;33m,\u001b[0m \u001b[1;36m10\u001b[0m\u001b[1;33m,\u001b[0m \u001b[1;36m200\u001b[0m\u001b[1;33m,\u001b[0m \u001b[0mendpoint\u001b[0m\u001b[1;33m=\u001b[0m\u001b[1;32mTrue\u001b[0m\u001b[1;33m)\u001b[0m\u001b[1;33m\u001b[0m\u001b[1;33m\u001b[0m\u001b[0m\n\u001b[1;32m---> 81\u001b[1;33m \u001b[0myp\u001b[0m \u001b[1;33m=\u001b[0m \u001b[0mf\u001b[0m\u001b[1;33m(\u001b[0m\u001b[0mxp\u001b[0m\u001b[1;33m)\u001b[0m\u001b[1;33m\u001b[0m\u001b[1;33m\u001b[0m\u001b[0m\n\u001b[0m\u001b[0;32m     82\u001b[0m \u001b[0mzero\u001b[0m \u001b[1;33m=\u001b[0m \u001b[0mnp\u001b[0m\u001b[1;33m.\u001b[0m\u001b[0mzeros\u001b[0m\u001b[1;33m(\u001b[0m\u001b[1;36m200\u001b[0m\u001b[1;33m)\u001b[0m\u001b[1;33m\u001b[0m\u001b[1;33m\u001b[0m\u001b[0m\n\u001b[0;32m     83\u001b[0m \u001b[0mplt\u001b[0m\u001b[1;33m.\u001b[0m\u001b[0mplot\u001b[0m\u001b[1;33m(\u001b[0m\u001b[0mxp\u001b[0m\u001b[1;33m,\u001b[0m \u001b[0mzero\u001b[0m\u001b[1;33m,\u001b[0m \u001b[0mlabel\u001b[0m \u001b[1;33m=\u001b[0m \u001b[1;34m'x-axis'\u001b[0m\u001b[1;33m)\u001b[0m\u001b[1;33m\u001b[0m\u001b[1;33m\u001b[0m\u001b[0m\n",
      "\u001b[1;32mC:\\Users\\KUMARJ~1\\AppData\\Local\\Temp/ipykernel_36716/2655745562.py\u001b[0m in \u001b[0;36mf\u001b[1;34m(x)\u001b[0m\n\u001b[0;32m      4\u001b[0m \u001b[1;33m\u001b[0m\u001b[0m\n\u001b[0;32m      5\u001b[0m \u001b[1;32mdef\u001b[0m \u001b[0mf\u001b[0m\u001b[1;33m(\u001b[0m\u001b[0mx\u001b[0m\u001b[1;33m)\u001b[0m\u001b[1;33m:\u001b[0m\u001b[1;33m\u001b[0m\u001b[1;33m\u001b[0m\u001b[0m\n\u001b[1;32m----> 6\u001b[1;33m     \u001b[1;32mreturn\u001b[0m \u001b[0mm\u001b[0m\u001b[1;33m.\u001b[0m\u001b[0msin\u001b[0m\u001b[1;33m(\u001b[0m\u001b[0mx\u001b[0m\u001b[1;33m)\u001b[0m \u001b[1;33m+\u001b[0m \u001b[0mx\u001b[0m\u001b[1;33m**\u001b[0m\u001b[1;36m2\u001b[0m \u001b[1;33m-\u001b[0m \u001b[1;36m1\u001b[0m\u001b[1;33m\u001b[0m\u001b[1;33m\u001b[0m\u001b[0m\n\u001b[0m\u001b[0;32m      7\u001b[0m     \u001b[1;31m#return math.sin(x)\u001b[0m\u001b[1;33m\u001b[0m\u001b[1;33m\u001b[0m\u001b[0m\n\u001b[0;32m      8\u001b[0m \u001b[1;33m\u001b[0m\u001b[0m\n",
      "\u001b[1;31mTypeError\u001b[0m: only size-1 arrays can be converted to Python scalars"
     ]
    }
   ],
   "source": [
    "import matplotlib.pyplot as plt\n",
    "import numpy as np\n",
    "import math as m\n",
    "\n",
    "def f(x):\n",
    "    return m.sin(x) + x**2 - 1\n",
    "    #return math.sin(x)\n",
    "\n",
    "\n",
    "def bisection1(a, b):\n",
    "    if(f(a)*f(b)>=0):\n",
    "        print(\"Invalid interval!\")\n",
    "        return\n",
    "\n",
    "    #print(\"Current interval: [%f, %f]\" %(a, b))\n",
    "    mid = a\n",
    "    x = []\n",
    "    y = []\n",
    "\n",
    "    \n",
    "    for i in range(1, 101, 1):\n",
    "        \n",
    "        mid = (a + b)/2.0\n",
    "\n",
    "        if(f(a)*f(mid) < 0):\n",
    "            b = mid\n",
    "        else:\n",
    "            a = mid    \n",
    "\n",
    "        #print(\"Current interval: [%f, %f]\" %(a, b))\n",
    "        print(\"%f %f %f %f %f %f\" %(a, f(a), b, f(b), mid, f(mid)))\n",
    "\n",
    "        x.append(mid)\n",
    "        y.append(f(mid))\n",
    "\n",
    "    return mid, x, y\n",
    "\n",
    "def bisection(a, b):\n",
    "    if(f(a)*f(b)>=0):\n",
    "        print(\"Invalid interval!\")\n",
    "        return\n",
    "\n",
    "    #print(\"Current interval, mid and f-value: [%f, %f]: %f %f\" %(a, b, a, f(a)))\n",
    "    mid = a\n",
    "    x = []\n",
    "    y = []\n",
    "\n",
    "    \n",
    "    while (b - a) >= 0.001:\n",
    "        \n",
    "        mid = (a + b)/2.0\n",
    "\n",
    "        #print(\"a, f-value, b, f-value, mid, f-value: %f %f %f %f %f\" %(a, f(a), b, f(b), mid, f(mid)))\n",
    "        #print(\"a = %f f(a) = %f b = %f f(b) = %f mid = %f f(mid) = %f\" %(a, f(a), b, f(b), mid, f(mid)))\n",
    "        print(\"%f %f %f %f %f %f\" %(a, f(a), b, f(b), mid, f(mid)))\n",
    "        if(f(a)*f(mid) < 0):\n",
    "            b = mid\n",
    "        else:\n",
    "            a = mid    \n",
    "\n",
    "        #print(\"Current interval, mid and f-value: [%f, %f]: %f %f\" %(a, b, mid, f(mid)))\n",
    "\n",
    "        x.append(mid)\n",
    "        y.append(f(mid))\n",
    "\n",
    "    return mid, x, y\n",
    "\n",
    "sol, x, y = bisection(0.6, 0.7)\n",
    "#sol, x, y = bisection(-0.5, 7.0)\n",
    "print(\"The root is \", \"%.4f\"%sol)\n",
    "\n",
    "print(x)\n",
    "\n",
    "#sol1, x1, y1 = bisection1(0.5, 0.6)\n",
    "\n",
    "#plt.plot(x1, y1, label = 'midpoints')\n",
    "\n",
    "#xp = np.linspace(0.5, 0.6, 50, endpoint=True)\n",
    "#\"\"\"\n",
    "xp = np.linspace(-1, 10, 200, endpoint=True)\n",
    "yp = f(xp)\n",
    "zero = np.zeros(200)\n",
    "plt.plot(xp, zero, label = 'x-axis')\n",
    "plt.plot(xp, yp, label='f(x)')\n",
    "\n",
    "y = np.zeros(7)\n",
    "plt.plot(x, y, 'r*')\n",
    "#for i, j in zip(x, y):\n",
    "#   plt.text(i, j+0.5, '({}, {})'.format(i, j))\n",
    "#plt.axis([0, 6, 0, 20])\n",
    "\n",
    "#plt.plot(x, zero, label='app')\n",
    "#plt.plot(x, y1, label = 'iterations')\n",
    "\n",
    "\n",
    "plt.legend()\n",
    "\n",
    "plt.show()\n",
    "\n",
    "#\"\"\""
   ]
  },
  {
   "cell_type": "markdown",
   "id": "050763fc",
   "metadata": {},
   "source": [
    "# Newton Raphson Method"
   ]
  },
  {
   "cell_type": "code",
   "execution_count": 20,
   "id": "28345c13",
   "metadata": {},
   "outputs": [
    {
     "name": "stdout",
     "output_type": "stream",
     "text": [
      "x, f, df, h values: 0.542846 0.033011 9.036401 0.057154\n",
      "x, f, df, h values: 0.539193 0.000123 8.969086 0.003653\n",
      "x, f, df, h values: 0.539179 0.000000 8.968835 0.000014\n",
      "The root is  0.5392\n"
     ]
    },
    {
     "data": {
      "text/plain": [
       "\"\\nx = np.linspace(0, 1, 100, endpoint=True)\\ny = f(x)\\nzero = np.zeros(100)\\nplt.plot(x, zero, label = 'x = 0')\\nplt.plot(x, y, label='f(x)')\\n#plt.plot(x, y1, label = 'iterations')\\n\\nplt.legend()\\n\""
      ]
     },
     "execution_count": 20,
     "metadata": {},
     "output_type": "execute_result"
    }
   ],
   "source": [
    "import matplotlib.pyplot as plt\n",
    "import numpy as np\n",
    "import math\n",
    "\n",
    "def f(x):\n",
    "    return 10**x + x - 4\n",
    "    #return math.log(x)\n",
    "    #return math.exp(x) - 2\n",
    "    #return x*(1-x)\n",
    "\n",
    "def df(x):\n",
    "    return math.log(10)*10**x + 1\n",
    "    #return 1.0/x\n",
    "    #return math.exp(x)\n",
    "    #return 1-2*x\n",
    "\n",
    "def df_num(x):\n",
    "    h = 0.00001\n",
    "    return (f(x+h) - f(x))/h\n",
    "\n",
    "def newtonRaphson(x):\n",
    "    h = f(x)/df(x)\n",
    "    #h = f(x)/df_num(x)\n",
    "    \n",
    "    \n",
    "\n",
    "    \n",
    "    #while abs(h) >= 0.0001:\n",
    "    while abs(f(x)) >= 0.0001:\n",
    "\n",
    "        h = f(x)/df(x)\n",
    "        #h = f(x)/df_num(x)\n",
    "        x = x - h\n",
    "        \n",
    "       \n",
    "\n",
    "        print('x, f, df, h values: %f %f %f %f' %(x, f(x), df(x), h))\n",
    "\n",
    "       \n",
    "\n",
    "    return x\n",
    "\n",
    "\n",
    "#sol, x, y = bisection(0.5, 0.6)\n",
    "print(\"The root is \", \"%.4f\"%newtonRaphson(0.6))\n",
    "#print(\"The root is \", \"%.4f\"%newtonRaphson(0.55))\n",
    "\n",
    "#sol1, x1, y1 = bisection1(0.5, 0.6)\n",
    "\n",
    "#plt.plot(x, y, label = 'midpoints')\n",
    "\"\"\"\n",
    "x = np.linspace(0, 1, 100, endpoint=True)\n",
    "y = f(x)\n",
    "zero = np.zeros(100)\n",
    "plt.plot(x, zero, label = 'x = 0')\n",
    "plt.plot(x, y, label='f(x)')\n",
    "#plt.plot(x, y1, label = 'iterations')\n",
    "\n",
    "plt.legend()\n",
    "\"\"\"\n",
    "#plt.show()"
   ]
  }
 ],
 "metadata": {
  "kernelspec": {
   "display_name": "Python 3 (ipykernel)",
   "language": "python",
   "name": "python3"
  },
  "language_info": {
   "codemirror_mode": {
    "name": "ipython",
    "version": 3
   },
   "file_extension": ".py",
   "mimetype": "text/x-python",
   "name": "python",
   "nbconvert_exporter": "python",
   "pygments_lexer": "ipython3",
   "version": "3.9.7"
  }
 },
 "nbformat": 4,
 "nbformat_minor": 5
}
